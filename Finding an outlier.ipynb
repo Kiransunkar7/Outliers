{
 "cells": [
  {
   "cell_type": "markdown",
   "metadata": {},
   "source": [
    "## What is an outlier?\n",
    "An outlier is a data point in a data set that is distant from all other observations. A data point that lies outside the overall distribution of the dataset.\n",
    "\n"
   ]
  },
  {
   "cell_type": "code",
   "execution_count": 9,
   "metadata": {},
   "outputs": [],
   "source": [
    "import numpy as np\n",
    "import matplotlib.pyplot as plt"
   ]
  },
  {
   "cell_type": "markdown",
   "metadata": {},
   "source": [
    "### What are the criteria to identify an outlier?\n",
    "1.Data point that falls outside of 1.5 times of an interquartile range above the 3rd quartile and below the 1st quartile\n",
    "\n",
    "\n",
    "2.Data point that falls outside of 3 standard deviations. we can use a z score and if the z score falls outside of 2 standard deviation\n",
    "\n",
    "### What is the reason for an outlier to exists in a dataset?\n",
    "1.Variability in the data\n",
    "\n",
    "\n",
    "2.An experimental measurement error\n",
    "\n",
    "### What are the impacts of having outliers in a dataset?\n",
    "1.It causes various problems during our statistical analysis\n",
    "\n",
    "\n",
    "2.It may cause a significant impact on the mean and the standard deviation\n",
    "\n",
    "### Various ways of finding the outlier.\n",
    "1.Using scatter plots\n",
    "\n",
    "2.Box plot\n",
    "\n",
    "3.using z score\n",
    "\n",
    "4.using the IQR interquantile range"
   ]
  },
  {
   "cell_type": "markdown",
   "metadata": {},
   "source": [
    "# Detecting outlier using z_score\n",
    "\n",
    "\n",
    "Z_Score=(Observation-mean)/standard deviation\n",
    "\n",
    "z = (X — μ) / σ"
   ]
  },
  {
   "cell_type": "code",
   "execution_count": 65,
   "metadata": {},
   "outputs": [],
   "source": [
    "#kiran= [11,10,12,14,12,15,14,13,15,102,12,14,17,19,107, 10,13,12,14,12,108,12,11,14,13,15,10,15,12,10,14,13,15,10]\n",
    "kiran=[30, 171, 184, 201, 212, 250, 265, 270, 272, 289, 305, 306, 322, 322, 336, 346, 351, 370, 390, 404, 409, 411, 436, 437, 439, 441, 444, 448, 451, 453, 470, 480, 482, 487, 494, 495, 499, 503, 514, 521, 522, 527, 548, 550, 559, 560, 570, 572, 574, 578, 585, 592, 592, 607, 616, 618, 621, 629, 637, 638, 640, 656, 668, 707, 709, 719, 737, 739, 752, 758, 766, 792, 792, 794, 802, 818, 830, 832, 843, 858, 860, 869, 918, 925, 953, 991, 1000, 1005, 1068, 1441]"
   ]
  },
  {
   "cell_type": "code",
   "execution_count": 66,
   "metadata": {},
   "outputs": [],
   "source": [
    "outliers=[]\n",
    "def detect_outliers(data):\n",
    "   \n",
    "    threshold=3\n",
    "    mean=np.mean(data)\n",
    "    std=np.std(data)\n",
    "\n",
    "    for i in data:\n",
    "        z_score=(i-mean)/std\n",
    "        if np.abs(z_score)>threshold:\n",
    "            outliers.append(i)\n",
    "    return outliers\n",
    "outlier_pt=detect_outliers(kiran)\n"
   ]
  },
  {
   "cell_type": "code",
   "execution_count": 67,
   "metadata": {},
   "outputs": [
    {
     "data": {
      "text/plain": [
       "[1441]"
      ]
     },
     "execution_count": 67,
     "metadata": {},
     "output_type": "execute_result"
    }
   ],
   "source": [
    "outlier_pt"
   ]
  },
  {
   "cell_type": "code",
   "execution_count": 68,
   "metadata": {},
   "outputs": [
    {
     "data": {
      "text/plain": [
       "'C:\\\\Users\\\\Kiran Sunkar'"
      ]
     },
     "execution_count": 68,
     "metadata": {},
     "output_type": "execute_result"
    }
   ],
   "source": [
    "import os\n",
    "os.getcwd()"
   ]
  },
  {
   "cell_type": "markdown",
   "metadata": {},
   "source": [
    "# InterQuantile Range\n",
    "\n",
    "75%- 25% values in a dataset\n",
    "\n",
    "### Steps\n",
    "\n",
    "    1. Arrange the data in increasing order\n",
    "\n",
    "    2. Calculate first(q1) and third quartile(q3)\n",
    "\n",
    "    3. Find interquartile range (q3-q1)\n",
    "\n",
    "    4.Find lower bound q1*1.5\n",
    "\n",
    "    5.Find upper bound q3*1.5\n",
    "\n",
    "\n",
    "Anything that lies outside of lower and upper bound is an outlier"
   ]
  },
  {
   "cell_type": "code",
   "execution_count": 69,
   "metadata": {},
   "outputs": [
    {
     "data": {
      "text/plain": [
       "[30,\n",
       " 171,\n",
       " 184,\n",
       " 201,\n",
       " 212,\n",
       " 250,\n",
       " 265,\n",
       " 270,\n",
       " 272,\n",
       " 289,\n",
       " 305,\n",
       " 306,\n",
       " 322,\n",
       " 322,\n",
       " 336,\n",
       " 346,\n",
       " 351,\n",
       " 370,\n",
       " 390,\n",
       " 404,\n",
       " 409,\n",
       " 411,\n",
       " 436,\n",
       " 437,\n",
       " 439,\n",
       " 441,\n",
       " 444,\n",
       " 448,\n",
       " 451,\n",
       " 453,\n",
       " 470,\n",
       " 480,\n",
       " 482,\n",
       " 487,\n",
       " 494,\n",
       " 495,\n",
       " 499,\n",
       " 503,\n",
       " 514,\n",
       " 521,\n",
       " 522,\n",
       " 527,\n",
       " 548,\n",
       " 550,\n",
       " 559,\n",
       " 560,\n",
       " 570,\n",
       " 572,\n",
       " 574,\n",
       " 578,\n",
       " 585,\n",
       " 592,\n",
       " 592,\n",
       " 607,\n",
       " 616,\n",
       " 618,\n",
       " 621,\n",
       " 629,\n",
       " 637,\n",
       " 638,\n",
       " 640,\n",
       " 656,\n",
       " 668,\n",
       " 707,\n",
       " 709,\n",
       " 719,\n",
       " 737,\n",
       " 739,\n",
       " 752,\n",
       " 758,\n",
       " 766,\n",
       " 792,\n",
       " 792,\n",
       " 794,\n",
       " 802,\n",
       " 818,\n",
       " 830,\n",
       " 832,\n",
       " 843,\n",
       " 858,\n",
       " 860,\n",
       " 869,\n",
       " 918,\n",
       " 925,\n",
       " 953,\n",
       " 991,\n",
       " 1000,\n",
       " 1005,\n",
       " 1068,\n",
       " 1441]"
      ]
     },
     "execution_count": 69,
     "metadata": {},
     "output_type": "execute_result"
    }
   ],
   "source": [
    "#sort data\n",
    "sorted(kiran)"
   ]
  },
  {
   "cell_type": "code",
   "execution_count": 70,
   "metadata": {},
   "outputs": [
    {
     "name": "stdout",
     "output_type": "stream",
     "text": [
      "436.25 738.5\n"
     ]
    }
   ],
   "source": [
    "quantile1,quantile3=np.percentile(kiran,(25,75))\n",
    "print(quantile1,quantile3)"
   ]
  },
  {
   "cell_type": "code",
   "execution_count": 71,
   "metadata": {},
   "outputs": [],
   "source": [
    "#Find IQR\n",
    "IQR=quantile3-quantile1\n"
   ]
  },
  {
   "cell_type": "code",
   "execution_count": 72,
   "metadata": {},
   "outputs": [
    {
     "data": {
      "text/plain": [
       "302.25"
      ]
     },
     "execution_count": 72,
     "metadata": {},
     "output_type": "execute_result"
    }
   ],
   "source": [
    "IQR"
   ]
  },
  {
   "cell_type": "code",
   "execution_count": 49,
   "metadata": {},
   "outputs": [],
   "source": [
    "lower_bound=quantile1-(1.5*IQR)\n",
    "upper_bound=quantile3+(1.5*IQR)\n",
    "\n",
    "                       "
   ]
  },
  {
   "cell_type": "code",
   "execution_count": 50,
   "metadata": {},
   "outputs": [
    {
     "data": {
      "text/plain": [
       "(7.5, 19.5)"
      ]
     },
     "execution_count": 50,
     "metadata": {},
     "output_type": "execute_result"
    }
   ],
   "source": [
    "lower_bound,upper_bound"
   ]
  },
  {
   "cell_type": "code",
   "execution_count": null,
   "metadata": {},
   "outputs": [],
   "source": []
  }
 ],
 "metadata": {
  "kernelspec": {
   "display_name": "Python 3",
   "language": "python",
   "name": "python3"
  },
  "language_info": {
   "codemirror_mode": {
    "name": "ipython",
    "version": 3
   },
   "file_extension": ".py",
   "mimetype": "text/x-python",
   "name": "python",
   "nbconvert_exporter": "python",
   "pygments_lexer": "ipython3",
   "version": "3.7.6"
  }
 },
 "nbformat": 4,
 "nbformat_minor": 4
}
